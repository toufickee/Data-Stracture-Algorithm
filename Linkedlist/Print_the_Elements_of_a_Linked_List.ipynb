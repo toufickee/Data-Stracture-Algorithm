{
  "nbformat": 4,
  "nbformat_minor": 0,
  "metadata": {
    "colab": {
      "name": "Print the Elements of a Linked List.ipynb",
      "provenance": [],
      "collapsed_sections": []
    },
    "kernelspec": {
      "name": "python3",
      "display_name": "Python 3"
    }
  },
  "cells": [
    {
      "cell_type": "code",
      "metadata": {
        "id": "DNqb6MZxc3xt",
        "colab_type": "code",
        "colab": {}
      },
      "source": [
        "#!/bin/python3\n",
        "\n",
        "import math\n",
        "import os\n",
        "import random\n",
        "import re\n",
        "import sys\n",
        "\n",
        "class SinglyLinkedListNode:\n",
        "    def __init__(self, node_data):\n",
        "        self.data = node_data\n",
        "        self.next = None\n",
        "\n",
        "class SinglyLinkedList:\n",
        "    def __init__(self):\n",
        "        self.head = None\n",
        "        self.tail = None\n",
        "\n",
        "    def insert_node(self, node_data):\n",
        "        node = SinglyLinkedListNode(node_data)\n",
        "\n",
        "        if not self.head:\n",
        "            self.head = node\n",
        "        else:\n",
        "            self.tail.next = node\n",
        "\n",
        "\n",
        "        self.tail = node\n",
        "\n",
        "# Complete the printLinkedList function below.\n",
        "\n",
        "#\n",
        "# For your reference:\n",
        "#\n",
        "# SinglyLinkedListNode:\n",
        "#     int data\n",
        "#     SinglyLinkedListNode next\n",
        "#\n",
        "#\n",
        "def printLinkedList(head):\n",
        "    if head is None:\n",
        "        print(\"Empty\")\n",
        "    \n",
        "    while head:\n",
        "        print(str(head.data))\n",
        "        head=head.next\n",
        "\n",
        "if __name__ == '__main__':"
      ],
      "execution_count": null,
      "outputs": []
    }
  ]
}