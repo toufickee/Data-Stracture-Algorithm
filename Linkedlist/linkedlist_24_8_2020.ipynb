{
  "nbformat": 4,
  "nbformat_minor": 0,
  "metadata": {
    "colab": {
      "name": "linkedlist_24_8_2020.ipynb",
      "provenance": []
    },
    "kernelspec": {
      "name": "python3",
      "display_name": "Python 3"
    }
  },
  "cells": [
    {
      "cell_type": "code",
      "metadata": {
        "id": "lLcRRgEVQQby",
        "colab_type": "code",
        "colab": {}
      },
      "source": [
        "class Node:\n",
        "  def __init__(self,data=None,next=None):\n",
        "    self.data=data\n",
        "    self.next=next\n",
        "\n",
        "class Linkedlist:\n",
        "  def __init__(self):\n",
        "    self.head=None\n",
        "\n",
        "  def insert_at_begining(self,data):\n",
        "    node=Node(data,self.head)\n",
        "    self.head=node\n",
        "  \n",
        "  def print(self):\n",
        "    if self.head is None:\n",
        "      print(\"Empty\")\n",
        "\n",
        "    itr=self.head\n",
        "    llist=''\n",
        "\n",
        "    while itr:\n",
        "      llist+=str(itr.data)+'-->'\n",
        "      itr=itr.next\n",
        "\n",
        "    print(llist)\n",
        "\n",
        "  def insert_at_end(self,data):\n",
        "    if self.head is None:\n",
        "      self.head=Node(data,None)\n",
        "      return\n",
        "\n",
        "    itr=self.head\n",
        "    while itr.next:\n",
        "      itr=itr.next\n",
        "\n",
        "    itr.next=Node(data,None)\n",
        "\n",
        "  def insert_values(self,data_list):\n",
        "    self.head=None\n",
        "    for data in data_list:\n",
        "      self.insert_at_end(data)\n",
        "\n",
        "  def get_lenght(self):\n",
        "    count=0\n",
        "    itr=self.head\n",
        "    while itr:\n",
        "      count+=1\n",
        "      itr=itr.next\n",
        "\n",
        "    return count\n",
        "\n",
        "  def remove_at(self,index):\n",
        "    if index<0 or index>=self.get_lenght():\n",
        "      raise Exception(\"Invalid Index\")\n",
        "\n",
        "    if index==0:\n",
        "      self.head=self.head.next\n",
        "      return\n",
        "    \n",
        "    count=0\n",
        "    itr=self.head\n",
        "    while itr:\n",
        "      if count==index-1:\n",
        "        itr.next=itr.next.next\n",
        "        break\n",
        "      itr=itr.next\n",
        "      count+=1\n",
        "    \n",
        "  def insert_at(self,index,data):\n",
        "    if index<0 or index>self.get_lenght():\n",
        "      raise Exception(\"Invalid Index\")\n",
        "\n",
        "    if index==0:\n",
        "      self.insert_at_begining(data)\n",
        "      return\n",
        "      \n",
        "    count=0\n",
        "    itr=self.head\n",
        "    while itr:\n",
        "      if count==index-1:\n",
        "        node=Node(data,itr.next)\n",
        "        itr.next=node\n",
        "        break\n",
        "\n",
        "      itr=itr.next\n",
        "      count+=1\n"
      ],
      "execution_count": 33,
      "outputs": []
    },
    {
      "cell_type": "code",
      "metadata": {
        "id": "5uprmkcRWrwr",
        "colab_type": "code",
        "colab": {
          "base_uri": "https://localhost:8080/",
          "height": 68
        },
        "outputId": "c0d42c1f-64a6-4dbd-fd42-5ffd45046d74"
      },
      "source": [
        "if __name__=='__main__':\n",
        "  ll=Linkedlist()\n",
        "  # ll.insert_at_begining(5)\n",
        "  # ll.insert_at_begining(89)\n",
        "  # ll.insert_at_end(79)\n",
        "  ll.insert_values([\"Banana\",\"mango\",\"grapes\",'orange'])\n",
        "  print(ll.get_lenght())\n",
        "  ll.print()\n",
        "  ll.remove_at(2)\n",
        "  ll.insert_at(0,\"figs\")\n",
        "  ll.insert_at(2,\"Jack_fruite\")\n",
        "  ll.print()"
      ],
      "execution_count": 34,
      "outputs": [
        {
          "output_type": "stream",
          "text": [
            "4\n",
            "Banana-->mango-->grapes-->orange-->\n",
            "figs-->Banana-->Jack_fruite-->mango-->orange-->\n"
          ],
          "name": "stdout"
        }
      ]
    },
    {
      "cell_type": "code",
      "metadata": {
        "id": "hZotM6QpXBDs",
        "colab_type": "code",
        "colab": {}
      },
      "source": [
        ""
      ],
      "execution_count": null,
      "outputs": []
    }
  ]
}